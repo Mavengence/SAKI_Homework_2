{
  "nbformat": 4,
  "nbformat_minor": 0,
  "metadata": {
    "accelerator": "GPU",
    "colab": {
      "name": "ner_4_2021.ipynb",
      "provenance": [],
      "collapsed_sections": []
    },
    "kernelspec": {
      "display_name": "Python 3",
      "language": "python",
      "name": "python3"
    },
    "language_info": {
      "codemirror_mode": {
        "name": "ipython",
        "version": 3
      },
      "file_extension": ".py",
      "mimetype": "text/x-python",
      "name": "python",
      "nbconvert_exporter": "python",
      "pygments_lexer": "ipython3",
      "version": "3.8.5"
    }
  },
  "cells": [
    {
      "cell_type": "code",
      "metadata": {
        "colab": {
          "base_uri": "https://localhost:8080/"
        },
        "id": "g2CJ4VzeNG4T",
        "outputId": "6d70c462-6679-4b6e-af95-48b06796479c"
      },
      "source": [
        "from google.colab import drive\n",
        "drive.mount('/content/gdrive')"
      ],
      "execution_count": 1,
      "outputs": [
        {
          "output_type": "stream",
          "text": [
            "Mounted at /content/gdrive\n"
          ],
          "name": "stdout"
        }
      ]
    },
    {
      "cell_type": "code",
      "metadata": {
        "id": "FnghTizPNWzw"
      },
      "source": [
        "import os"
      ],
      "execution_count": 2,
      "outputs": []
    },
    {
      "cell_type": "code",
      "metadata": {
        "id": "UZkVX1EnNadp"
      },
      "source": [
        "os.chdir( \"/content/gdrive/MyDrive/flair\" ) "
      ],
      "execution_count": 3,
      "outputs": []
    },
    {
      "cell_type": "code",
      "metadata": {
        "id": "FowyHS5ONdSJ"
      },
      "source": [
        "pip install flair"
      ],
      "execution_count": null,
      "outputs": []
    },
    {
      "cell_type": "code",
      "metadata": {
        "colab": {
          "base_uri": "https://localhost:8080/"
        },
        "id": "lDeL2lBkOKXH",
        "outputId": "d6f0c568-618a-41e4-b0bc-e52f707ed604"
      },
      "source": [
        "from flair.data import Corpus\n",
        "from flair.data_fetcher import NLPTaskDataFetcher\n",
        "\n",
        "downsample = 1.0 # 1.0 is full data, try a much smaller number like 0.01 to test run the code\n",
        "data_folder = os.getcwd()\n",
        "columns = {0: 'text', 1: 'ner'}\n",
        "\n",
        "# 1. get the corpus\n",
        "corpus: Corpus = NLPTaskDataFetcher.load_column_corpus(data_folder, columns,\n",
        "                                                             train_file='training_data.csv',\n",
        "                                                             test_file='test_data.csv',\n",
        "                                                           dev_file=None).downsample(downsample)\n",
        "print(corpus)"
      ],
      "execution_count": 6,
      "outputs": [
        {
          "output_type": "stream",
          "text": [
            "2021-05-22 11:23:02,442 Reading data from /content/gdrive/My Drive/flair\n",
            "2021-05-22 11:23:02,443 Train: /content/gdrive/My Drive/flair/training_data.csv\n",
            "2021-05-22 11:23:02,444 Dev: None\n",
            "2021-05-22 11:23:02,445 Test: /content/gdrive/My Drive/flair/test_data.csv\n"
          ],
          "name": "stdout"
        },
        {
          "output_type": "stream",
          "text": [
            "/usr/local/lib/python3.7/dist-packages/ipykernel_launcher.py:12: DeprecationWarning: Call to deprecated function (or staticmethod) load_column_corpus. (Use 'flair.datasets' instead.) -- Deprecated since version 0.4.1.\n",
            "  if sys.path[0] == '':\n"
          ],
          "name": "stderr"
        },
        {
          "output_type": "stream",
          "text": [
            "Corpus: 6290 train + 699 dev + 3322 test sentences\n"
          ],
          "name": "stdout"
        }
      ]
    },
    {
      "cell_type": "markdown",
      "metadata": {
        "id": "0dCeZKEpOez2"
      },
      "source": [
        "Now, we have loaded __flair__ and our data.<br>\n",
        "Next, we train models for __NER__.<br>\n",
        "Inform yourselves on [Embeddings](https://github.com/flairNLP/flair/blob/master/resources/docs/TUTORIAL_3_WORD_EMBEDDING.md) in Flair.<br>\n",
        "__Question 1__: What happens when we stack embeddings?<br>\n",
        "\n",
        "When we stack embeddings, we can create way more powerful models. For example we could stack our model with a BERT or ELMO Word embedding. We could also combine the character level, the flair embedding and BERT, but this takes too to train.\n",
        "\n",
        "<br>\n",
        "\n",
        "How does this influence computational running time and accuracy?<br>\n",
        "\n",
        "The accuracy will most likely increase when we stack the embeddings, because we can capture more complexity, but the computational running time will increase dramatically. \n",
        "\n",
        "<br>\n",
        "\n",
        "What does the __hidden_size__ of the __SequenceTagger__ reference?<br>\n",
        "What happens when you increase/decrease the __hidden_size__?\n",
        "\n",
        "The hidden size is basically the amount of `neurons` of the Embedding Layer. It is like the hidden_size of a hidden layer in a fully connected network. We therefore need a sufficient big enough hidden_size, but we can't know what the best value for hidden_size is. 256 or 512 are profound values that are often used. \n",
        "\n",
        "When we increase it, the computation time will rise, when we decrease it, the time will shrink due to fewer matrix multiplications."
      ]
    },
    {
      "cell_type": "code",
      "metadata": {
        "id": "4aIppbtDOopW",
        "colab": {
          "base_uri": "https://localhost:8080/"
        },
        "outputId": "d06baf47-0cad-4f75-b3e8-242953be61f5"
      },
      "source": [
        "# 4. initialize embeddings. Experiment with different embedding types to see what gets the best results\n",
        "from flair.embeddings import TokenEmbeddings, WordEmbeddings, StackedEmbeddings,FlairEmbeddings, CharacterEmbeddings\n",
        "\n",
        "embedding_types = [\n",
        "    WordEmbeddings('glove'),\n",
        "    # comment in this line to use character embeddings\n",
        "    CharacterEmbeddings(),\n",
        "\n",
        "    # comment in these lines to use flair embeddings (needs a LONG time to train :-)\n",
        "    #FlairEmbeddings('news-forward'),\n",
        "    #FlairEmbeddings('news-backward'),\n",
        "]\n",
        "\n",
        "embeddings: StackedEmbeddings = StackedEmbeddings(embeddings=embedding_types)\n",
        "\n",
        "# 5. initialize sequence tagger\n",
        "from flair.models import SequenceTagger\n",
        "\n",
        "tag_type = \"ner\"\n",
        "tag_dictionary = corpus.make_tag_dictionary(tag_type=tag_type)\n",
        "\n",
        "tagger: SequenceTagger = SequenceTagger(hidden_size=256,\n",
        "                                        embeddings=embeddings,\n",
        "                                        tag_dictionary=tag_dictionary,\n",
        "                                        tag_type=tag_type,\n",
        "                                        use_crf=True)"
      ],
      "execution_count": 8,
      "outputs": [
        {
          "output_type": "stream",
          "text": [
            "2021-05-22 11:23:54,403 https://flair.informatik.hu-berlin.de/resources/characters/common_characters not found in cache, downloading to /tmp/tmp5xi3gk29\n"
          ],
          "name": "stdout"
        },
        {
          "output_type": "stream",
          "text": [
            "100%|██████████| 2887/2887 [00:00<00:00, 822395.79B/s]"
          ],
          "name": "stderr"
        },
        {
          "output_type": "stream",
          "text": [
            "2021-05-22 11:23:54,724 copying /tmp/tmp5xi3gk29 to cache at /root/.flair/datasets/common_characters\n",
            "2021-05-22 11:23:54,729 removing temp file /tmp/tmp5xi3gk29\n"
          ],
          "name": "stdout"
        },
        {
          "output_type": "stream",
          "text": [
            "\n"
          ],
          "name": "stderr"
        }
      ]
    },
    {
      "cell_type": "markdown",
      "metadata": {
        "id": "HXvWxWB3PjhP"
      },
      "source": [
        "Start Training"
      ]
    },
    {
      "cell_type": "code",
      "metadata": {
        "colab": {
          "base_uri": "https://localhost:8080/"
        },
        "id": "2H7-e-_5Peww",
        "outputId": "ae174086-f42b-4607-b14c-aae35211d404"
      },
      "source": [
        "# 6. initialize trainer\n",
        "from flair.trainers import ModelTrainer\n",
        "\n",
        "trainer: ModelTrainer = ModelTrainer(tagger, corpus)\n",
        "\n",
        "model_name = 'flair_glove'\n",
        "\n",
        "trainer.train(model_name,\n",
        "              learning_rate=0.1,\n",
        "              mini_batch_size=10,\n",
        "              #anneal_with_restarts=True,\n",
        "              max_epochs=5)"
      ],
      "execution_count": 9,
      "outputs": [
        {
          "output_type": "stream",
          "text": [
            "2021-05-22 11:24:12,079 ----------------------------------------------------------------------------------------------------\n",
            "2021-05-22 11:24:12,081 Model: \"SequenceTagger(\n",
            "  (embeddings): StackedEmbeddings(\n",
            "    (list_embedding_0): WordEmbeddings('glove')\n",
            "    (list_embedding_1): CharacterEmbeddings(\n",
            "      (char_embedding): Embedding(275, 25)\n",
            "      (char_rnn): LSTM(25, 25, bidirectional=True)\n",
            "    )\n",
            "  )\n",
            "  (word_dropout): WordDropout(p=0.05)\n",
            "  (locked_dropout): LockedDropout(p=0.5)\n",
            "  (embedding2nn): Linear(in_features=150, out_features=150, bias=True)\n",
            "  (rnn): LSTM(150, 256, batch_first=True, bidirectional=True)\n",
            "  (linear): Linear(in_features=512, out_features=16, bias=True)\n",
            "  (beta): 1.0\n",
            "  (weights): None\n",
            "  (weight_tensor) None\n",
            ")\"\n",
            "2021-05-22 11:24:12,083 ----------------------------------------------------------------------------------------------------\n",
            "2021-05-22 11:24:12,086 Corpus: \"Corpus: 6290 train + 699 dev + 3322 test sentences\"\n",
            "2021-05-22 11:24:12,087 ----------------------------------------------------------------------------------------------------\n",
            "2021-05-22 11:24:12,089 Parameters:\n",
            "2021-05-22 11:24:12,091  - learning_rate: \"0.1\"\n",
            "2021-05-22 11:24:12,095  - mini_batch_size: \"10\"\n",
            "2021-05-22 11:24:12,097  - patience: \"3\"\n",
            "2021-05-22 11:24:12,099  - anneal_factor: \"0.5\"\n",
            "2021-05-22 11:24:12,100  - max_epochs: \"5\"\n",
            "2021-05-22 11:24:12,102  - shuffle: \"True\"\n",
            "2021-05-22 11:24:12,104  - train_with_dev: \"False\"\n",
            "2021-05-22 11:24:12,107  - batch_growth_annealing: \"False\"\n",
            "2021-05-22 11:24:12,109 ----------------------------------------------------------------------------------------------------\n",
            "2021-05-22 11:24:12,111 Model training base path: \"flair_glove\"\n",
            "2021-05-22 11:24:12,113 ----------------------------------------------------------------------------------------------------\n",
            "2021-05-22 11:24:12,116 Device: cuda:0\n",
            "2021-05-22 11:24:12,118 ----------------------------------------------------------------------------------------------------\n",
            "2021-05-22 11:24:12,122 Embeddings storage mode: cpu\n",
            "2021-05-22 11:24:12,474 ----------------------------------------------------------------------------------------------------\n",
            "2021-05-22 11:24:25,367 epoch 1 - iter 62/629 - loss 6.13754450 - samples/sec: 48.10 - lr: 0.100000\n",
            "2021-05-22 11:24:39,226 epoch 1 - iter 124/629 - loss 6.32923208 - samples/sec: 44.76 - lr: 0.100000\n",
            "2021-05-22 11:24:54,182 epoch 1 - iter 186/629 - loss 6.04365285 - samples/sec: 41.47 - lr: 0.100000\n",
            "2021-05-22 11:25:07,225 epoch 1 - iter 248/629 - loss 5.52962604 - samples/sec: 47.56 - lr: 0.100000\n",
            "2021-05-22 11:25:21,351 epoch 1 - iter 310/629 - loss 5.04458642 - samples/sec: 43.90 - lr: 0.100000\n",
            "2021-05-22 11:25:36,000 epoch 1 - iter 372/629 - loss 4.85582607 - samples/sec: 42.34 - lr: 0.100000\n",
            "2021-05-22 11:25:50,693 epoch 1 - iter 434/629 - loss 4.83728554 - samples/sec: 42.21 - lr: 0.100000\n",
            "2021-05-22 11:26:04,088 epoch 1 - iter 496/629 - loss 4.59665985 - samples/sec: 46.30 - lr: 0.100000\n",
            "2021-05-22 11:26:17,815 epoch 1 - iter 558/629 - loss 4.54787858 - samples/sec: 45.18 - lr: 0.100000\n",
            "2021-05-22 11:26:33,797 epoch 1 - iter 620/629 - loss 4.49544336 - samples/sec: 38.80 - lr: 0.100000\n",
            "2021-05-22 11:26:35,953 ----------------------------------------------------------------------------------------------------\n",
            "2021-05-22 11:26:35,955 EPOCH 1 done: loss 4.4951 - lr 0.1000000\n",
            "2021-05-22 11:26:43,024 DEV : loss 2.4661312103271484 - score 0.1796\n",
            "2021-05-22 11:26:43,087 BAD EPOCHS (no improvement): 0\n",
            "saving best model\n",
            "2021-05-22 11:26:49,688 ----------------------------------------------------------------------------------------------------\n",
            "2021-05-22 11:27:07,048 epoch 2 - iter 62/629 - loss 2.78192621 - samples/sec: 35.73 - lr: 0.100000\n",
            "2021-05-22 11:27:24,526 epoch 2 - iter 124/629 - loss 3.42252299 - samples/sec: 35.49 - lr: 0.100000\n",
            "2021-05-22 11:27:39,754 epoch 2 - iter 186/629 - loss 3.30933420 - samples/sec: 40.73 - lr: 0.100000\n",
            "2021-05-22 11:27:54,095 epoch 2 - iter 248/629 - loss 3.27398741 - samples/sec: 43.25 - lr: 0.100000\n",
            "2021-05-22 11:28:09,062 epoch 2 - iter 310/629 - loss 3.14909907 - samples/sec: 41.44 - lr: 0.100000\n",
            "2021-05-22 11:28:24,223 epoch 2 - iter 372/629 - loss 3.06152000 - samples/sec: 40.91 - lr: 0.100000\n",
            "2021-05-22 11:28:40,762 epoch 2 - iter 434/629 - loss 3.01994081 - samples/sec: 37.49 - lr: 0.100000\n",
            "2021-05-22 11:28:56,756 epoch 2 - iter 496/629 - loss 2.98061667 - samples/sec: 38.78 - lr: 0.100000\n",
            "2021-05-22 11:29:12,058 epoch 2 - iter 558/629 - loss 3.03698416 - samples/sec: 40.53 - lr: 0.100000\n",
            "2021-05-22 11:29:27,125 epoch 2 - iter 620/629 - loss 2.95402421 - samples/sec: 41.16 - lr: 0.100000\n",
            "2021-05-22 11:29:29,271 ----------------------------------------------------------------------------------------------------\n",
            "2021-05-22 11:29:29,275 EPOCH 2 done: loss 2.9646 - lr 0.1000000\n",
            "2021-05-22 11:29:35,620 DEV : loss 2.0670511722564697 - score 0.3098\n",
            "2021-05-22 11:29:35,684 BAD EPOCHS (no improvement): 0\n",
            "saving best model\n",
            "2021-05-22 11:29:38,664 ----------------------------------------------------------------------------------------------------\n",
            "2021-05-22 11:29:54,673 epoch 3 - iter 62/629 - loss 2.19786174 - samples/sec: 38.75 - lr: 0.100000\n",
            "2021-05-22 11:30:10,938 epoch 3 - iter 124/629 - loss 2.61280697 - samples/sec: 38.14 - lr: 0.100000\n",
            "2021-05-22 11:30:25,873 epoch 3 - iter 186/629 - loss 2.52379599 - samples/sec: 41.53 - lr: 0.100000\n",
            "2021-05-22 11:30:40,295 epoch 3 - iter 248/629 - loss 2.45442538 - samples/sec: 43.01 - lr: 0.100000\n",
            "2021-05-22 11:30:56,598 epoch 3 - iter 310/629 - loss 2.47133172 - samples/sec: 38.05 - lr: 0.100000\n",
            "2021-05-22 11:31:13,144 epoch 3 - iter 372/629 - loss 2.47849585 - samples/sec: 37.49 - lr: 0.100000\n",
            "2021-05-22 11:31:28,848 epoch 3 - iter 434/629 - loss 2.47233988 - samples/sec: 39.50 - lr: 0.100000\n",
            "2021-05-22 11:31:44,985 epoch 3 - iter 496/629 - loss 2.53499237 - samples/sec: 38.44 - lr: 0.100000\n",
            "2021-05-22 11:31:59,177 epoch 3 - iter 558/629 - loss 2.50754959 - samples/sec: 43.71 - lr: 0.100000\n",
            "2021-05-22 11:32:15,598 epoch 3 - iter 620/629 - loss 2.47961987 - samples/sec: 37.77 - lr: 0.100000\n",
            "2021-05-22 11:32:18,466 ----------------------------------------------------------------------------------------------------\n",
            "2021-05-22 11:32:18,470 EPOCH 3 done: loss 2.5020 - lr 0.1000000\n",
            "2021-05-22 11:32:24,756 DEV : loss 2.014693021774292 - score 0.3956\n",
            "2021-05-22 11:32:24,813 BAD EPOCHS (no improvement): 0\n",
            "saving best model\n",
            "2021-05-22 11:32:27,761 ----------------------------------------------------------------------------------------------------\n",
            "2021-05-22 11:32:45,364 epoch 4 - iter 62/629 - loss 2.42007343 - samples/sec: 35.24 - lr: 0.100000\n",
            "2021-05-22 11:33:02,450 epoch 4 - iter 124/629 - loss 2.42089224 - samples/sec: 36.30 - lr: 0.100000\n",
            "2021-05-22 11:33:19,125 epoch 4 - iter 186/629 - loss 2.41249813 - samples/sec: 37.19 - lr: 0.100000\n",
            "2021-05-22 11:33:34,996 epoch 4 - iter 248/629 - loss 2.39233369 - samples/sec: 39.08 - lr: 0.100000\n",
            "2021-05-22 11:33:50,325 epoch 4 - iter 310/629 - loss 2.45054061 - samples/sec: 40.46 - lr: 0.100000\n",
            "2021-05-22 11:34:06,245 epoch 4 - iter 372/629 - loss 2.48287048 - samples/sec: 38.96 - lr: 0.100000\n",
            "2021-05-22 11:34:20,882 epoch 4 - iter 434/629 - loss 2.42205270 - samples/sec: 42.38 - lr: 0.100000\n",
            "2021-05-22 11:34:35,047 epoch 4 - iter 496/629 - loss 2.35701026 - samples/sec: 43.79 - lr: 0.100000\n",
            "2021-05-22 11:34:51,835 epoch 4 - iter 558/629 - loss 2.33281130 - samples/sec: 36.95 - lr: 0.100000\n",
            "2021-05-22 11:35:06,633 epoch 4 - iter 620/629 - loss 2.33439833 - samples/sec: 41.92 - lr: 0.100000\n",
            "2021-05-22 11:35:08,891 ----------------------------------------------------------------------------------------------------\n",
            "2021-05-22 11:35:08,893 EPOCH 4 done: loss 2.3273 - lr 0.1000000\n",
            "2021-05-22 11:35:15,270 DEV : loss 1.495338797569275 - score 0.435\n",
            "2021-05-22 11:35:15,326 BAD EPOCHS (no improvement): 0\n",
            "saving best model\n",
            "2021-05-22 11:35:18,235 ----------------------------------------------------------------------------------------------------\n",
            "2021-05-22 11:35:34,223 epoch 5 - iter 62/629 - loss 2.47483519 - samples/sec: 38.80 - lr: 0.100000\n",
            "2021-05-22 11:35:49,072 epoch 5 - iter 124/629 - loss 2.30915512 - samples/sec: 41.77 - lr: 0.100000\n",
            "2021-05-22 11:36:03,366 epoch 5 - iter 186/629 - loss 2.17223854 - samples/sec: 43.40 - lr: 0.100000\n",
            "2021-05-22 11:36:20,054 epoch 5 - iter 248/629 - loss 2.31118563 - samples/sec: 37.17 - lr: 0.100000\n",
            "2021-05-22 11:36:37,345 epoch 5 - iter 310/629 - loss 2.29545374 - samples/sec: 35.87 - lr: 0.100000\n",
            "2021-05-22 11:36:52,961 epoch 5 - iter 372/629 - loss 2.21524577 - samples/sec: 39.72 - lr: 0.100000\n",
            "2021-05-22 11:37:08,851 epoch 5 - iter 434/629 - loss 2.19829440 - samples/sec: 39.03 - lr: 0.100000\n",
            "2021-05-22 11:37:26,012 epoch 5 - iter 496/629 - loss 2.32795451 - samples/sec: 36.14 - lr: 0.100000\n",
            "2021-05-22 11:37:41,204 epoch 5 - iter 558/629 - loss 2.33421812 - samples/sec: 40.83 - lr: 0.100000\n",
            "2021-05-22 11:37:57,147 epoch 5 - iter 620/629 - loss 2.27147171 - samples/sec: 38.90 - lr: 0.100000\n",
            "2021-05-22 11:37:59,460 ----------------------------------------------------------------------------------------------------\n",
            "2021-05-22 11:37:59,464 EPOCH 5 done: loss 2.2708 - lr 0.1000000\n",
            "2021-05-22 11:38:05,740 DEV : loss 1.7524528503417969 - score 0.4376\n",
            "2021-05-22 11:38:05,797 BAD EPOCHS (no improvement): 0\n",
            "saving best model\n",
            "2021-05-22 11:38:14,787 ----------------------------------------------------------------------------------------------------\n",
            "2021-05-22 11:38:14,790 Testing using best model ...\n",
            "2021-05-22 11:38:14,794 loading file flair_glove/best-model.pt\n",
            "2021-05-22 11:38:39,556 0.5935\t0.3828\t0.4654\n",
            "2021-05-22 11:38:39,561 \n",
            "Results:\n",
            "- F1-score (micro) 0.4654\n",
            "- F1-score (macro) 0.3740\n",
            "\n",
            "By class:\n",
            "Companies  tp: 178 - fp: 76 - fn: 129 - precision: 0.7008 - recall: 0.5798 - f1-score: 0.6346\n",
            "Degree     tp: 58 - fp: 58 - fn: 80 - precision: 0.5000 - recall: 0.4203 - f1-score: 0.4567\n",
            "L-Companies tp: 201 - fp: 62 - fn: 96 - precision: 0.7643 - recall: 0.6768 - f1-score: 0.7179\n",
            "L-Degree   tp: 47 - fp: 37 - fn: 56 - precision: 0.5595 - recall: 0.4563 - f1-score: 0.5027\n",
            "L-Skills   tp: 19 - fp: 37 - fn: 160 - precision: 0.3393 - recall: 0.1061 - f1-score: 0.1617\n",
            "Skills     tp: 18 - fp: 46 - fn: 191 - precision: 0.2812 - recall: 0.0861 - f1-score: 0.1319\n",
            "U-Companies tp: 16 - fp: 27 - fn: 58 - precision: 0.3721 - recall: 0.2162 - f1-score: 0.2735\n",
            "U-Degree   tp: 7 - fp: 9 - fn: 30 - precision: 0.4375 - recall: 0.1892 - f1-score: 0.2642\n",
            "U-Skills   tp: 21 - fp: 35 - fn: 111 - precision: 0.3750 - recall: 0.1591 - f1-score: 0.2234\n",
            "2021-05-22 11:38:39,565 ----------------------------------------------------------------------------------------------------\n"
          ],
          "name": "stdout"
        },
        {
          "output_type": "execute_result",
          "data": {
            "text/plain": [
              "{'dev_loss_history': [2.4661312103271484,\n",
              "  2.0670511722564697,\n",
              "  2.014693021774292,\n",
              "  1.495338797569275,\n",
              "  1.7524528503417969],\n",
              " 'dev_score_history': [0.17955112219451372,\n",
              "  0.30979498861047833,\n",
              "  0.39556377079482435,\n",
              "  0.4349514563106796,\n",
              "  0.4376130198915009],\n",
              " 'test_score': 0.46540362438220756,\n",
              " 'train_loss_history': [4.495144929562137,\n",
              "  2.9645907472410435,\n",
              "  2.5019682600460533,\n",
              "  2.3273426864935836,\n",
              "  2.270780367400669]}"
            ]
          },
          "metadata": {
            "tags": []
          },
          "execution_count": 9
        }
      ]
    },
    {
      "cell_type": "code",
      "metadata": {
        "colab": {
          "base_uri": "https://localhost:8080/",
          "height": 884
        },
        "id": "1f_4C828R1nv",
        "outputId": "2aeed0b6-ffd3-434f-8620-bc31c938d501"
      },
      "source": [
        "from flair.visual.training_curves import Plotter\n",
        "plotter = Plotter()\n",
        "plotter.plot_training_curves( os.getcwd() + '/flair_glove/loss.tsv')"
      ],
      "execution_count": 11,
      "outputs": [
        {
          "output_type": "stream",
          "text": [
            "2021-05-22 11:55:16,464 ----------------------------------------------------------------------------------------------------\n",
            "2021-05-22 11:55:16,466 WARNING: No LOSS found for test split in this data.\n",
            "2021-05-22 11:55:16,467 Are you sure you want to plot LOSS and not another value?\n",
            "2021-05-22 11:55:16,468 ----------------------------------------------------------------------------------------------------\n",
            "2021-05-22 11:55:16,495 ----------------------------------------------------------------------------------------------------\n",
            "2021-05-22 11:55:16,496 WARNING: No F1 found for test split in this data.\n",
            "2021-05-22 11:55:16,497 Are you sure you want to plot F1 and not another value?\n",
            "2021-05-22 11:55:16,498 ----------------------------------------------------------------------------------------------------\n",
            "Loss and F1 plots are saved in /content/gdrive/MyDrive/flair/flair_glove/training.png\n"
          ],
          "name": "stdout"
        },
        {
          "output_type": "display_data",
          "data": {
            "image/png": "[encoded data removed]",
            "text/plain": [
              "<Figure size 1080x720 with 2 Axes>"
            ]
          },
          "metadata": {
            "tags": [],
            "needs_background": "light"
          }
        }
      ]
    },
    {
      "cell_type": "markdown",
      "metadata": {
        "id": "ddpWbze5OlGs"
      },
      "source": [
        "__Question 2__: Suggest, how could you improve the F1-value?<br>\n",
        "Are 5 epochs enough for training?<br>\n",
        "\n",
        "We can see that the training loss is still shrinking, but the validation loss is still not really rising that much. Therefore we probably didn't find the sweat-spot yet. I would train until epoch 10 and check again if we find a lower loss.\n",
        "\n",
        "How could you speed up computation?\n",
        "\n",
        "We can speed it up by:\n",
        "- reduce hidden_size\n",
        "- fewer training data\n",
        "- no character level embedding"
      ]
    }
  ]
}